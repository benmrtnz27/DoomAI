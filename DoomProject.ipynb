{
 "cells": [
  {
   "cell_type": "markdown",
   "id": "80569538",
   "metadata": {},
   "source": [
    "Getting VizDoom Up and Running"
   ]
  },
  {
   "cell_type": "code",
   "execution_count": 6,
   "id": "cbd71611",
   "metadata": {},
   "outputs": [
    {
     "name": "stderr",
     "output_type": "stream",
     "text": [
      "ERROR: Invalid requirement: '#installs'\n",
      "WARNING: You are using pip version 21.1.3; however, version 22.0.4 is available.\n",
      "You should consider upgrading via the 'c:\\users\\benmr\\appdata\\local\\programs\\python\\python38\\python.exe -m pip install --upgrade pip' command.\n"
     ]
    }
   ],
   "source": [
    "!pip install vizdoom    #installs vizdoom library"
   ]
  },
  {
   "cell_type": "code",
   "execution_count": 7,
   "id": "a655ad96",
   "metadata": {},
   "outputs": [
    {
     "name": "stderr",
     "output_type": "stream",
     "text": [
      "fatal: destination path 'ViZDoom' already exists and is not an empty directory.\n"
     ]
    }
   ],
   "source": [
    "# Clone VizDoom repo to a folder in this directory\n",
    "!cd github & git clone https://github.com/mwydmuch/ViZDoom.git"
   ]
  },
  {
   "cell_type": "code",
   "execution_count": 8,
   "id": "1e6698b6",
   "metadata": {},
   "outputs": [],
   "source": [
    "# Time to import some Dependencies!\n",
    "# Import vizdoom for game env\n",
    "from vizdoom import *\n",
    "# Import random for action sampling\n",
    "import random\n",
    "# Import time for sleeping\n",
    "import time"
   ]
  },
  {
   "cell_type": "code",
   "execution_count": 11,
   "id": "46918f19",
   "metadata": {},
   "outputs": [],
   "source": [
    "# setup game\n",
    "game = DoomGame() # creating a game instance. DoomGame() comes from VizDoom\n",
    "game.load_config('github/VizDoom/scenarios/basic.cfg') # This let's us load up basic.config which defines map, loadout, etc\n",
    "game.init() # initializing the instance of our game"
   ]
  },
  {
   "cell_type": "code",
   "execution_count": null,
   "id": "82a2ed3c",
   "metadata": {},
   "outputs": [],
   "source": [
    "# start creating actions that our program can take in game"
   ]
  }
 ],
 "metadata": {
  "kernelspec": {
   "display_name": "Python 3 (ipykernel)",
   "language": "python",
   "name": "python3"
  },
  "language_info": {
   "codemirror_mode": {
    "name": "ipython",
    "version": 3
   },
   "file_extension": ".py",
   "mimetype": "text/x-python",
   "name": "python",
   "nbconvert_exporter": "python",
   "pygments_lexer": "ipython3",
   "version": "3.8.8"
  }
 },
 "nbformat": 4,
 "nbformat_minor": 5
}
